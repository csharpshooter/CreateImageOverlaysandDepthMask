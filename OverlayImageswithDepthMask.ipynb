{
  "nbformat": 4,
  "nbformat_minor": 0,
  "metadata": {
    "colab": {
      "name": "OverlayImageswithDepthMask",
      "provenance": [],
      "collapsed_sections": [],
      "machine_shape": "hm",
      "authorship_tag": "ABX9TyMd0rlBCK4EMeCaa4dXhlfd",
      "include_colab_link": true
    },
    "kernelspec": {
      "name": "python3",
      "display_name": "Python 3"
    },
    "accelerator": "GPU"
  },
  "cells": [
    {
      "cell_type": "markdown",
      "metadata": {
        "id": "view-in-github",
        "colab_type": "text"
      },
      "source": [
        "<a href=\"https://colab.research.google.com/github/csharpshooter/CreateImageOverlaysandDepthMask/blob/master/OverlayImageswithDepthMask.ipynb\" target=\"_parent\"><img src=\"https://colab.research.google.com/assets/colab-badge.svg\" alt=\"Open In Colab\"/></a>"
      ]
    },
    {
      "cell_type": "code",
      "metadata": {
        "id": "IEKQQ1xBllYf",
        "colab_type": "code",
        "colab": {
          "base_uri": "https://localhost:8080/",
          "height": 125
        },
        "outputId": "d2675a8e-39eb-4d75-a612-5620ad2735e7"
      },
      "source": [
        "from google.colab import drive\n",
        "drive.mount('/content/gdrive')"
      ],
      "execution_count": 1,
      "outputs": [
        {
          "output_type": "stream",
          "text": [
            "Go to this URL in a browser: https://accounts.google.com/o/oauth2/auth?client_id=947318989803-6bn6qk8qdgf4n4g3pfee6491hc0brc4i.apps.googleusercontent.com&redirect_uri=urn%3aietf%3awg%3aoauth%3a2.0%3aoob&response_type=code&scope=email%20https%3a%2f%2fwww.googleapis.com%2fauth%2fdocs.test%20https%3a%2f%2fwww.googleapis.com%2fauth%2fdrive%20https%3a%2f%2fwww.googleapis.com%2fauth%2fdrive.photos.readonly%20https%3a%2f%2fwww.googleapis.com%2fauth%2fpeopleapi.readonly\n",
            "\n",
            "Enter your authorization code:\n",
            "··········\n",
            "Mounted at /content/gdrive\n"
          ],
          "name": "stdout"
        }
      ]
    },
    {
      "cell_type": "code",
      "metadata": {
        "id": "bn9EnaNApX6q",
        "colab_type": "code",
        "colab": {
          "base_uri": "https://localhost:8080/",
          "height": 122
        },
        "outputId": "6a6166dd-f757-4e1d-a724-52e94cf937a9"
      },
      "source": [
        "# !pip uninstall pillow"
      ],
      "execution_count": 1,
      "outputs": [
        {
          "output_type": "stream",
          "text": [
            "Uninstalling Pillow-7.0.0:\n",
            "  Would remove:\n",
            "    /usr/local/lib/python3.6/dist-packages/PIL/*\n",
            "    /usr/local/lib/python3.6/dist-packages/Pillow-7.0.0.dist-info/*\n",
            "Proceed (y/n)? y\n",
            "  Successfully uninstalled Pillow-7.0.0\n"
          ],
          "name": "stdout"
        }
      ]
    },
    {
      "cell_type": "code",
      "metadata": {
        "id": "7-F92UaDpmm4",
        "colab_type": "code",
        "colab": {
          "base_uri": "https://localhost:8080/",
          "height": 232
        },
        "outputId": "f12f5a7f-9dc8-4d3c-a5f9-542562a6dcbf"
      },
      "source": [
        "# pip install Pillow==6.0.0"
      ],
      "execution_count": 2,
      "outputs": [
        {
          "output_type": "stream",
          "text": [
            "Collecting Pillow==6.0.0\n",
            "\u001b[?25l  Downloading https://files.pythonhosted.org/packages/d2/c2/f84b1e57416755e967236468dcfb0fad7fd911f707185efc4ba8834a1a94/Pillow-6.0.0-cp36-cp36m-manylinux1_x86_64.whl (2.0MB)\n",
            "\u001b[K     |████████████████████████████████| 2.0MB 2.9MB/s \n",
            "\u001b[31mERROR: albumentations 0.1.12 has requirement imgaug<0.2.7,>=0.2.5, but you'll have imgaug 0.2.9 which is incompatible.\u001b[0m\n",
            "\u001b[?25hInstalling collected packages: Pillow\n",
            "Successfully installed Pillow-6.0.0\n"
          ],
          "name": "stdout"
        },
        {
          "output_type": "display_data",
          "data": {
            "application/vnd.colab-display-data+json": {
              "pip_warning": {
                "packages": [
                  "PIL"
                ]
              }
            }
          },
          "metadata": {
            "tags": []
          }
        }
      ]
    },
    {
      "cell_type": "code",
      "metadata": {
        "id": "1oeXUPXwllKI",
        "colab_type": "code",
        "colab": {
          "base_uri": "https://localhost:8080/",
          "height": 122
        },
        "outputId": "64bb7a14-f8d2-4b0a-d10f-d63363360197"
      },
      "source": [
        "!git clone https://github.com/csharpshooter/CreateImageOverlaysandDepthMask.git"
      ],
      "execution_count": 2,
      "outputs": [
        {
          "output_type": "stream",
          "text": [
            "Cloning into 'CreateImageOverlaysandDepthMask'...\n",
            "remote: Enumerating objects: 30, done.\u001b[K\n",
            "remote: Counting objects: 100% (30/30), done.\u001b[K\n",
            "remote: Compressing objects: 100% (25/25), done.\u001b[K\n",
            "remote: Total 30 (delta 10), reused 22 (delta 4), pack-reused 0\u001b[K\n",
            "Unpacking objects: 100% (30/30), done.\n"
          ],
          "name": "stdout"
        }
      ]
    },
    {
      "cell_type": "code",
      "metadata": {
        "id": "n_WC2B9MllSf",
        "colab_type": "code",
        "colab": {
          "base_uri": "https://localhost:8080/",
          "height": 34
        },
        "outputId": "759e52da-8aed-4a76-daf4-64596911ef63"
      },
      "source": [
        "cd CreateImageOverlaysandDepthMask"
      ],
      "execution_count": 3,
      "outputs": [
        {
          "output_type": "stream",
          "text": [
            "/content/CreateImageOverlaysandDepthMask\n"
          ],
          "name": "stdout"
        }
      ]
    },
    {
      "cell_type": "code",
      "metadata": {
        "id": "t5Z59ZmGoE0K",
        "colab_type": "code",
        "colab": {
          "base_uri": "https://localhost:8080/",
          "height": 34
        },
        "outputId": "3c83143c-542c-41cd-943a-bde62534074d"
      },
      "source": [
        "!git pull"
      ],
      "execution_count": 4,
      "outputs": [
        {
          "output_type": "stream",
          "text": [
            "Already up to date.\n"
          ],
          "name": "stdout"
        }
      ]
    },
    {
      "cell_type": "code",
      "metadata": {
        "id": "6wsNEeWTmyhg",
        "colab_type": "code",
        "colab": {}
      },
      "source": [
        "!mkdir NYU/weights"
      ],
      "execution_count": 0,
      "outputs": []
    },
    {
      "cell_type": "code",
      "metadata": {
        "id": "JO_Eoly3mD4h",
        "colab_type": "code",
        "colab": {
          "base_uri": "https://localhost:8080/",
          "height": 210
        },
        "outputId": "c27e3d13-f7e8-4078-c3aa-df25b18593dd"
      },
      "source": [
        "!wget https://s3-eu-west-1.amazonaws.com/densedepth/nyu.h5 -O ./NYU/weights/nyu.h5"
      ],
      "execution_count": 6,
      "outputs": [
        {
          "output_type": "stream",
          "text": [
            "--2020-05-05 05:45:53--  https://s3-eu-west-1.amazonaws.com/densedepth/nyu.h5\n",
            "Resolving s3-eu-west-1.amazonaws.com (s3-eu-west-1.amazonaws.com)... 52.218.28.115\n",
            "Connecting to s3-eu-west-1.amazonaws.com (s3-eu-west-1.amazonaws.com)|52.218.28.115|:443... connected.\n",
            "HTTP request sent, awaiting response... 200 OK\n",
            "Length: 172897376 (165M) [application/h5]\n",
            "Saving to: ‘./NYU/weights/nyu.h5’\n",
            "\n",
            "./NYU/weights/nyu.h 100%[===================>] 164.89M  21.9MB/s    in 8.5s    \n",
            "\n",
            "2020-05-05 05:46:02 (19.5 MB/s) - ‘./NYU/weights/nyu.h5’ saved [172897376/172897376]\n",
            "\n"
          ],
          "name": "stdout"
        }
      ]
    },
    {
      "cell_type": "code",
      "metadata": {
        "id": "qNMXB37pmEw4",
        "colab_type": "code",
        "colab": {
          "base_uri": "https://localhost:8080/",
          "height": 52
        },
        "outputId": "200b8a9e-c16a-427a-8f72-62cde1555cc3"
      },
      "source": [
        "ls"
      ],
      "execution_count": 7,
      "outputs": [
        {
          "output_type": "stream",
          "text": [
            "CreateDepthMaskNYU.py  \u001b[0m\u001b[01;34mNYU\u001b[0m/              OverlayImageswithDepthMask.ipynb\n",
            "CreateMasks.py         OverlayImages.py  temp.png\n"
          ],
          "name": "stdout"
        }
      ]
    },
    {
      "cell_type": "code",
      "metadata": {
        "id": "HkulH_c6j8yp",
        "colab_type": "code",
        "colab": {
          "base_uri": "https://localhost:8080/",
          "height": 34
        },
        "outputId": "b30d413d-7b69-4995-adc6-1396e335735f"
      },
      "source": [
        "import os\n",
        "from random import random\n",
        "from random import seed\n",
        "\n",
        "import cv2\n",
        "import numpy as np\n",
        "from PIL import Image\n",
        "from tqdm import tqdm\n",
        "\n",
        "from CreateDepthMaskNYU import CreateDepthMaskNYU\n",
        "import matplotlib.pyplot as plt\n",
        "from PIL import Image"
      ],
      "execution_count": 8,
      "outputs": [
        {
          "output_type": "stream",
          "text": [
            "Using TensorFlow backend.\n"
          ],
          "name": "stderr"
        }
      ]
    },
    {
      "cell_type": "code",
      "metadata": {
        "id": "rESLZ-nSkFTg",
        "colab_type": "code",
        "colab": {}
      },
      "source": [
        "model_path = r'./NYU/weights/nyu.h5'"
      ],
      "execution_count": 0,
      "outputs": []
    },
    {
      "cell_type": "code",
      "metadata": {
        "id": "L-ql64pmmS5Q",
        "colab_type": "code",
        "colab": {}
      },
      "source": [
        "bg_path = r'/content/gdrive/My Drive/MaskRCNNDataset/Background'\n",
        "fg_path = r'/content/gdrive/My Drive/MaskRCNNDataset/Foreground'\n",
        "fg_mask_path = r'/content/gdrive/My Drive/MaskRCNNDataset/Foreground/masks'\n",
        "\n",
        "final_output = r'/content/gdrive/My Drive/MaskRCNNDataset/OverLayedImages'\n",
        "final_output_mask = r'/content/gdrive/My Drive/MaskRCNNDataset/OverLayedMask'\n",
        "final_output_dm = r'/content/gdrive/My Drive/MaskRCNNDataset/OverLayedDepthMasks'"
      ],
      "execution_count": 0,
      "outputs": []
    },
    {
      "cell_type": "code",
      "metadata": {
        "id": "oLB2KU-HkFbn",
        "colab_type": "code",
        "colab": {}
      },
      "source": [
        "fg_image_ext = '.png'\n",
        "fg_image_flip_ext = '_flip.png'\n",
        "bg_image_ext = '.jpg'\n",
        "final_image_ext = '.jpg'\n",
        "final_output_dm_ext = '.jpg'\n",
        "batch_images_count = 40000\n",
        "batch = 1\n",
        "batch_folder_name = 'batch_'"
      ],
      "execution_count": 0,
      "outputs": []
    },
    {
      "cell_type": "code",
      "metadata": {
        "id": "ByUABB0EkFnX",
        "colab_type": "code",
        "colab": {
          "base_uri": "https://localhost:8080/",
          "height": 70
        },
        "outputId": "c28154b0-751f-4d12-d343-96ea3f9c4205"
      },
      "source": [
        "depth_model = CreateDepthMaskNYU(model_path)"
      ],
      "execution_count": 12,
      "outputs": [
        {
          "output_type": "stream",
          "text": [
            "Loading model...\n",
            "\n",
            "Model loaded (./NYU/weights/nyu.h5).\n"
          ],
          "name": "stdout"
        }
      ]
    },
    {
      "cell_type": "code",
      "metadata": {
        "id": "gPUog0aTkTBI",
        "colab_type": "code",
        "colab": {
          "base_uri": "https://localhost:8080/",
          "height": 1000
        },
        "outputId": "842ce840-bde9-4a17-d4b5-073e34170077"
      },
      "source": [
        "for x in tqdm(range(1, 2)):\n",
        "    seed(x)\n",
        "    init_x = int(np.floor(random() * 79))\n",
        "    init_y = int(np.floor(random() * 79))\n",
        "    dict_for_dm = {}\n",
        "\n",
        "    # if not x == 0 and x % 4 == 0:\n",
        "    #     batch += 1;\n",
        "\n",
        "    if not x == 0:\n",
        "        batch += 1;\n",
        "\n",
        "    fg_img_path = final_output + os.path.sep + batch_folder_name + str(batch)\n",
        "    if not os.path.exists(fg_img_path):\n",
        "        os.mkdir(fg_img_path)\n",
        "\n",
        "    fg_mask_img_path = final_output_mask + os.path.sep + batch_folder_name + str(batch)\n",
        "    if not os.path.exists(fg_mask_img_path):\n",
        "        os.mkdir(fg_mask_img_path)\n",
        "\n",
        "    fg_dm_img_path = final_output_dm + os.path.sep + batch_folder_name + str(batch)\n",
        "    if not os.path.exists(fg_dm_img_path):\n",
        "        os.mkdir(fg_dm_img_path)\n",
        "\n",
        "    for mx in tqdm(range(1, 101)):\n",
        "\n",
        "        # if len(dict_for_dm > 0):\n",
        "        #     depth_model.flush_depth_maps(dict_for_dm)\n",
        "        #     dict_for_dm = {}\n",
        "\n",
        "        overlay_file_path = \"{0}{1}{2}{3}\".format(fg_path, os.path.sep, str(mx), fg_image_ext)\n",
        "        overlay_file_mask_path = \"{0}{1}{2}{3}\".format(fg_mask_path, os.path.sep, str(mx), fg_image_ext)\n",
        "\n",
        "        overlay = cv2.imread(overlay_file_path, cv2.IMREAD_UNCHANGED)\n",
        "        overlay_mask = cv2.imread(overlay_file_mask_path, cv2.IMREAD_UNCHANGED)\n",
        "\n",
        "        flip_overlay_path = \"{0}{1}{2}{3}\".format(fg_path, os.path.sep, str(mx), fg_image_flip_ext)\n",
        "        flip_overlay_mask_path = \"{0}{1}{2}{3}\".format(fg_mask_path, os.path.sep, str(mx), fg_image_flip_ext)\n",
        "\n",
        "        flip_overlay = cv2.imread(flip_overlay_path, cv2.IMREAD_UNCHANGED)\n",
        "        flip_overlay_mask = cv2.imread(flip_overlay_mask_path, cv2.IMREAD_UNCHANGED)\n",
        "\n",
        "        for k in (range(1, 101)):\n",
        "            bg_file_path = \"{0}{1}{2}{3}\".format(bg_path, os.path.sep, str(k), bg_image_ext)\n",
        "            background = cv2.imread(bg_file_path, cv2.IMREAD_UNCHANGED)\n",
        "            empty_image = np.zeros((224, 224, 3), dtype=\"uint8\")\n",
        "\n",
        "            for i in range(init_x, init_x + overlay.shape[0]):\n",
        "                for j in range(init_y, init_y + overlay.shape[1]):\n",
        "                    if x < 20:\n",
        "                        if overlay[i - init_x, j - init_y, 3] != 0:\n",
        "                            background[i, j, 0:3] = overlay[i - init_x, j - init_y, 0:3]\n",
        "                    else:\n",
        "                        if flip_overlay[i - init_x, j - init_y, 3] != 0:\n",
        "                            background[i, j, 0:3] = flip_overlay[i - init_x, j - init_y, 0:3]\n",
        "\n",
        "            for ix in range(0, 3):\n",
        "                if x < 20:\n",
        "                    empty_image[init_x:init_x + overlay.shape[0], init_y:init_y + overlay.shape[1], ix] = overlay_mask[\n",
        "                                                                                                          0:\n",
        "                                                                                                          overlay.shape[\n",
        "                                                                                                              0],\n",
        "                                                                                                          0:\n",
        "                                                                                                          overlay.shape[\n",
        "                                                                                                              1]]\n",
        "                else:\n",
        "                    empty_image[init_x:init_x + overlay.shape[0], init_y:init_y + overlay.shape[1],\n",
        "                    ix] = flip_overlay_mask[\n",
        "                          0:\n",
        "                          overlay.shape[\n",
        "                              0],\n",
        "                          0:\n",
        "                          overlay.shape[\n",
        "                              1]]\n",
        "\n",
        "            final_image_path = fg_img_path + os.path.sep + str(k) + '_p' + str(mx) + '_it' + str(x) + final_image_ext\n",
        "            cv2.imwrite(final_image_path, background)\n",
        "\n",
        "            final_image_mask_path = fg_mask_img_path + os.path.sep + str(k) + '_p' + str(mx) + '_it' + str(x) \\\n",
        "                                    + final_image_ext\n",
        "\n",
        "            empty_image = cv2.cvtColor(empty_image, cv2.COLOR_BGR2GRAY)\n",
        "\n",
        "            cv2.imwrite(final_image_mask_path, empty_image)\n",
        "\n",
        "            final_image_dm_path = fg_dm_img_path + os.path.sep + str(k) + '_p' + str(mx) + '_it' + str(\n",
        "                x) + final_output_dm_ext\n",
        "\n",
        "            dict_for_dm[final_image_dm_path] = background\n",
        "\n",
        "            width = background.shape[1] * 2\n",
        "            height = background.shape[0] * 2\n",
        "            dim = (width, height)\n",
        "\n",
        "            # resize image\n",
        "            resized = cv2.resize(background, dim, interpolation=cv2.INTER_AREA)\n",
        "\n",
        "            cv2.imwrite('/content/CreateImageOverlaysandDepthMask/temp.png', resized)\n",
        "\n",
        "            dm = depth_model.get_depth_map(resized, '/content/CreateImageOverlaysandDepthMask/temp.png', 1)\n",
        "\n",
        "            depth_model.save_dm(dm, final_image_dm_path)"
      ],
      "execution_count": 13,
      "outputs": [
        {
          "output_type": "stream",
          "text": [
            "  0%|          | 0/1 [00:00<?, ?it/s]\n",
            "  0%|          | 0/100 [00:00<?, ?it/s]\u001b[A\n",
            "  1%|          | 1/100 [01:40<2:45:39, 100.40s/it]\u001b[A\n",
            "  2%|▏         | 2/100 [02:18<2:13:34, 81.78s/it] \u001b[A\n",
            "  3%|▎         | 3/100 [02:56<1:50:44, 68.50s/it]\u001b[A\n",
            "  4%|▍         | 4/100 [03:41<1:38:14, 61.40s/it]\u001b[A\n",
            "  5%|▌         | 5/100 [04:08<1:21:05, 51.21s/it]\u001b[A\n",
            "  6%|▌         | 6/100 [04:33<1:07:59, 43.40s/it]\u001b[A\n",
            "  7%|▋         | 7/100 [04:59<59:12, 38.19s/it]  \u001b[A\n",
            "  8%|▊         | 8/100 [05:24<52:33, 34.27s/it]\u001b[A\n",
            "  9%|▉         | 9/100 [05:49<47:48, 31.52s/it]\u001b[A\n",
            " 10%|█         | 10/100 [06:17<45:28, 30.31s/it]\u001b[A\n",
            " 11%|█         | 11/100 [06:42<42:38, 28.75s/it]\u001b[A\n",
            " 12%|█▏        | 12/100 [07:09<41:10, 28.07s/it]\u001b[A\n",
            " 13%|█▎        | 13/100 [07:35<40:02, 27.62s/it]\u001b[A\n",
            " 14%|█▍        | 14/100 [08:00<38:30, 26.87s/it]\u001b[A\n",
            " 15%|█▌        | 15/100 [08:25<37:18, 26.33s/it]\u001b[A\n",
            " 16%|█▌        | 16/100 [08:50<36:17, 25.93s/it]\u001b[A\n",
            " 17%|█▋        | 17/100 [09:17<36:11, 26.16s/it]\u001b[A\n",
            " 18%|█▊        | 18/100 [09:42<35:21, 25.88s/it]\u001b[A\n",
            " 19%|█▉        | 19/100 [10:07<34:34, 25.61s/it]\u001b[A\n",
            " 20%|██        | 20/100 [10:33<34:02, 25.53s/it]\u001b[A\n",
            " 21%|██        | 21/100 [10:58<33:26, 25.40s/it]\u001b[A\n",
            " 22%|██▏       | 22/100 [11:24<33:34, 25.82s/it]\u001b[A\n",
            " 23%|██▎       | 23/100 [11:51<33:34, 26.16s/it]\u001b[A\n",
            " 24%|██▍       | 24/100 [12:16<32:43, 25.84s/it]\u001b[A\n",
            " 25%|██▌       | 25/100 [12:42<32:05, 25.67s/it]\u001b[A\n",
            " 26%|██▌       | 26/100 [13:07<31:28, 25.52s/it]\u001b[A\n",
            " 27%|██▋       | 27/100 [13:32<30:53, 25.39s/it]\u001b[A\n",
            " 28%|██▊       | 28/100 [14:00<31:19, 26.10s/it]\u001b[A\n",
            " 29%|██▉       | 29/100 [14:25<30:27, 25.74s/it]\u001b[A\n",
            " 30%|███       | 30/100 [14:50<29:43, 25.47s/it]\u001b[A\n",
            " 31%|███       | 31/100 [15:14<29:06, 25.32s/it]\u001b[A\n",
            " 32%|███▏      | 32/100 [15:40<28:40, 25.30s/it]\u001b[A\n",
            " 33%|███▎      | 33/100 [16:05<28:16, 25.33s/it]\u001b[A\n",
            " 34%|███▍      | 34/100 [16:30<27:47, 25.26s/it]\u001b[A\n",
            " 35%|███▌      | 35/100 [16:56<27:26, 25.33s/it]\u001b[A\n",
            " 36%|███▌      | 36/100 [17:24<27:48, 26.08s/it]\u001b[A\n",
            " 37%|███▋      | 37/100 [17:49<27:11, 25.89s/it]\u001b[A\n",
            " 38%|███▊      | 38/100 [18:14<26:33, 25.70s/it]\u001b[A\n",
            " 39%|███▉      | 39/100 [18:40<26:08, 25.72s/it]\u001b[A\n",
            " 40%|████      | 40/100 [19:05<25:23, 25.40s/it]\u001b[A\n",
            " 41%|████      | 41/100 [19:30<25:02, 25.46s/it]\u001b[A\n",
            " 42%|████▏     | 42/100 [19:55<24:23, 25.24s/it]\u001b[A\n",
            " 43%|████▎     | 43/100 [20:20<23:53, 25.14s/it]\u001b[A\n",
            " 44%|████▍     | 44/100 [20:45<23:28, 25.14s/it]\u001b[A\n",
            " 45%|████▌     | 45/100 [21:14<24:11, 26.39s/it]\u001b[A\n",
            " 46%|████▌     | 46/100 [21:39<23:19, 25.91s/it]\u001b[A\n",
            " 47%|████▋     | 47/100 [22:07<23:22, 26.47s/it]\u001b[A\n",
            " 48%|████▊     | 48/100 [22:32<22:32, 26.00s/it]\u001b[A\n",
            " 49%|████▉     | 49/100 [22:57<21:57, 25.83s/it]\u001b[A\n",
            " 50%|█████     | 50/100 [23:22<21:22, 25.65s/it]\u001b[A\n",
            " 51%|█████     | 51/100 [23:48<20:54, 25.60s/it]\u001b[A\n",
            " 52%|█████▏    | 52/100 [24:13<20:25, 25.54s/it]\u001b[A\n",
            " 53%|█████▎    | 53/100 [24:39<20:02, 25.58s/it]\u001b[A\n",
            " 54%|█████▍    | 54/100 [25:04<19:34, 25.53s/it]\u001b[A\n",
            " 55%|█████▌    | 55/100 [25:30<19:10, 25.56s/it]\u001b[A\n",
            " 56%|█████▌    | 56/100 [25:56<18:44, 25.56s/it]\u001b[A\n",
            " 57%|█████▋    | 57/100 [26:26<19:21, 27.00s/it]\u001b[A\n",
            " 58%|█████▊    | 58/100 [26:51<18:29, 26.42s/it]\u001b[A\n",
            " 59%|█████▉    | 59/100 [27:16<17:48, 26.06s/it]\u001b[A\n",
            " 60%|██████    | 60/100 [27:42<17:14, 25.86s/it]\u001b[A\n",
            " 61%|██████    | 61/100 [28:07<16:47, 25.84s/it]\u001b[A\n",
            " 62%|██████▏   | 62/100 [28:33<16:15, 25.68s/it]\u001b[A\n",
            " 63%|██████▎   | 63/100 [28:58<15:43, 25.49s/it]\u001b[A\n",
            " 64%|██████▍   | 64/100 [29:23<15:10, 25.29s/it]\u001b[A\n",
            " 65%|██████▌   | 65/100 [29:48<14:48, 25.39s/it]\u001b[A\n",
            " 66%|██████▌   | 66/100 [30:13<14:20, 25.30s/it]\u001b[A\n",
            " 67%|██████▋   | 67/100 [30:39<13:53, 25.26s/it]\u001b[A\n",
            " 68%|██████▊   | 68/100 [31:06<13:48, 25.89s/it]\u001b[A\n",
            " 69%|██████▉   | 69/100 [31:31<13:13, 25.60s/it]\u001b[A\n",
            " 70%|███████   | 70/100 [31:57<12:49, 25.66s/it]\u001b[A\n",
            " 71%|███████   | 71/100 [32:22<12:21, 25.58s/it]\u001b[A\n",
            " 72%|███████▏  | 72/100 [32:54<12:50, 27.51s/it]\u001b[A\n",
            " 73%|███████▎  | 73/100 [33:20<12:09, 27.03s/it]\u001b[A\n",
            " 74%|███████▍  | 74/100 [33:46<11:33, 26.67s/it]\u001b[A\n",
            " 75%|███████▌  | 75/100 [34:12<10:59, 26.39s/it]\u001b[A\n",
            " 76%|███████▌  | 76/100 [34:37<10:26, 26.11s/it]\u001b[A\n",
            " 77%|███████▋  | 77/100 [35:03<09:57, 25.96s/it]\u001b[A\n",
            " 78%|███████▊  | 78/100 [35:28<09:27, 25.79s/it]\u001b[A\n",
            " 79%|███████▉  | 79/100 [35:53<08:56, 25.53s/it]\u001b[A\n",
            " 80%|████████  | 80/100 [36:19<08:31, 25.56s/it]\u001b[A\n",
            " 81%|████████  | 81/100 [36:44<08:06, 25.61s/it]\u001b[A\n",
            " 82%|████████▏ | 82/100 [37:10<07:39, 25.54s/it]\u001b[A\n",
            " 83%|████████▎ | 83/100 [37:35<07:14, 25.55s/it]\u001b[A\n",
            " 84%|████████▍ | 84/100 [38:01<06:47, 25.48s/it]\u001b[A\n",
            " 85%|████████▌ | 85/100 [38:26<06:20, 25.39s/it]\u001b[A\n",
            " 86%|████████▌ | 86/100 [38:51<05:55, 25.42s/it]\u001b[A\n",
            " 87%|████████▋ | 87/100 [39:17<05:30, 25.39s/it]\u001b[A\n",
            " 88%|████████▊ | 88/100 [39:42<05:05, 25.42s/it]\u001b[A\n",
            " 89%|████████▉ | 89/100 [40:08<04:39, 25.44s/it]\u001b[A\n",
            " 90%|█████████ | 90/100 [40:32<04:12, 25.29s/it]\u001b[A\n",
            " 91%|█████████ | 91/100 [41:06<04:10, 27.88s/it]\u001b[A\n",
            " 92%|█████████▏| 92/100 [41:31<03:36, 27.01s/it]\u001b[A\n",
            " 93%|█████████▎| 93/100 [41:57<03:05, 26.55s/it]\u001b[A\n",
            " 94%|█████████▍| 94/100 [42:22<02:37, 26.26s/it]\u001b[A\n",
            " 95%|█████████▌| 95/100 [42:48<02:10, 26.12s/it]\u001b[A\n",
            " 96%|█████████▌| 96/100 [43:14<01:43, 25.96s/it]\u001b[A\n",
            " 97%|█████████▋| 97/100 [43:39<01:17, 25.88s/it]\u001b[A\n",
            " 98%|█████████▊| 98/100 [44:05<00:51, 25.77s/it]\u001b[A\n",
            " 99%|█████████▉| 99/100 [44:31<00:25, 25.73s/it]\u001b[A\n",
            "100%|██████████| 100/100 [44:58<00:00, 26.99s/it]\n",
            "100%|██████████| 1/1 [44:59<00:00, 2699.40s/it]\n"
          ],
          "name": "stderr"
        }
      ]
    },
    {
      "cell_type": "code",
      "metadata": {
        "id": "0zhTLjL_nE1Z",
        "colab_type": "code",
        "colab": {}
      },
      "source": [
        "drive.flush_and_unmount()"
      ],
      "execution_count": 0,
      "outputs": []
    }
  ]
}