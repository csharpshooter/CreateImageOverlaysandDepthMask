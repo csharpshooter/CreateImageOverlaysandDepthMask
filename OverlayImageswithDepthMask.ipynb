{
  "nbformat": 4,
  "nbformat_minor": 0,
  "metadata": {
    "colab": {
      "name": "OverlayImageswithDepthMask",
      "provenance": [],
      "collapsed_sections": [],
      "machine_shape": "hm",
      "authorship_tag": "ABX9TyNLTNXQDkAfFG7khreY8nMK",
      "include_colab_link": true
    },
    "kernelspec": {
      "name": "python3",
      "display_name": "Python 3"
    },
    "accelerator": "GPU"
  },
  "cells": [
    {
      "cell_type": "markdown",
      "metadata": {
        "id": "view-in-github",
        "colab_type": "text"
      },
      "source": [
        "<a href=\"https://colab.research.google.com/github/csharpshooter/CreateImageOverlaysandDepthMask/blob/master/OverlayImageswithDepthMask.ipynb\" target=\"_parent\"><img src=\"https://colab.research.google.com/assets/colab-badge.svg\" alt=\"Open In Colab\"/></a>"
      ]
    },
    {
      "cell_type": "code",
      "metadata": {
        "id": "IEKQQ1xBllYf",
        "colab_type": "code",
        "colab": {
          "base_uri": "https://localhost:8080/",
          "height": 127
        },
        "outputId": "7a9e8520-06fe-4fd9-ad4f-17873646c685"
      },
      "source": [
        "from google.colab import drive\n",
        "drive.mount('/content/gdrive')"
      ],
      "execution_count": 1,
      "outputs": [
        {
          "output_type": "stream",
          "text": [
            "Go to this URL in a browser: https://accounts.google.com/o/oauth2/auth?client_id=947318989803-6bn6qk8qdgf4n4g3pfee6491hc0brc4i.apps.googleusercontent.com&redirect_uri=urn%3aietf%3awg%3aoauth%3a2.0%3aoob&response_type=code&scope=email%20https%3a%2f%2fwww.googleapis.com%2fauth%2fdocs.test%20https%3a%2f%2fwww.googleapis.com%2fauth%2fdrive%20https%3a%2f%2fwww.googleapis.com%2fauth%2fdrive.photos.readonly%20https%3a%2f%2fwww.googleapis.com%2fauth%2fpeopleapi.readonly\n",
            "\n",
            "Enter your authorization code:\n",
            "··········\n",
            "Mounted at /content/gdrive\n"
          ],
          "name": "stdout"
        }
      ]
    },
    {
      "cell_type": "code",
      "metadata": {
        "id": "bn9EnaNApX6q",
        "colab_type": "code",
        "colab": {
          "base_uri": "https://localhost:8080/",
          "height": 125
        },
        "outputId": "6a6166dd-f757-4e1d-a724-52e94cf937a9"
      },
      "source": [
        "# !pip uninstall pillow"
      ],
      "execution_count": 1,
      "outputs": [
        {
          "output_type": "stream",
          "text": [
            "Uninstalling Pillow-7.0.0:\n",
            "  Would remove:\n",
            "    /usr/local/lib/python3.6/dist-packages/PIL/*\n",
            "    /usr/local/lib/python3.6/dist-packages/Pillow-7.0.0.dist-info/*\n",
            "Proceed (y/n)? y\n",
            "  Successfully uninstalled Pillow-7.0.0\n"
          ],
          "name": "stdout"
        }
      ]
    },
    {
      "cell_type": "code",
      "metadata": {
        "id": "7-F92UaDpmm4",
        "colab_type": "code",
        "colab": {
          "base_uri": "https://localhost:8080/",
          "height": 216
        },
        "outputId": "f12f5a7f-9dc8-4d3c-a5f9-542562a6dcbf"
      },
      "source": [
        "# pip install Pillow==6.0.0"
      ],
      "execution_count": 2,
      "outputs": [
        {
          "output_type": "stream",
          "text": [
            "Collecting Pillow==6.0.0\n",
            "\u001b[?25l  Downloading https://files.pythonhosted.org/packages/d2/c2/f84b1e57416755e967236468dcfb0fad7fd911f707185efc4ba8834a1a94/Pillow-6.0.0-cp36-cp36m-manylinux1_x86_64.whl (2.0MB)\n",
            "\u001b[K     |████████████████████████████████| 2.0MB 2.9MB/s \n",
            "\u001b[31mERROR: albumentations 0.1.12 has requirement imgaug<0.2.7,>=0.2.5, but you'll have imgaug 0.2.9 which is incompatible.\u001b[0m\n",
            "\u001b[?25hInstalling collected packages: Pillow\n",
            "Successfully installed Pillow-6.0.0\n"
          ],
          "name": "stdout"
        },
        {
          "output_type": "display_data",
          "data": {
            "application/vnd.colab-display-data+json": {
              "pip_warning": {
                "packages": [
                  "PIL"
                ]
              }
            }
          },
          "metadata": {
            "tags": []
          }
        }
      ]
    },
    {
      "cell_type": "code",
      "metadata": {
        "id": "1oeXUPXwllKI",
        "colab_type": "code",
        "colab": {
          "base_uri": "https://localhost:8080/",
          "height": 125
        },
        "outputId": "348446cc-7803-41ba-e7b6-eb6d7370f08d"
      },
      "source": [
        "!git clone https://github.com/csharpshooter/CreateImageOverlaysandDepthMask.git"
      ],
      "execution_count": 2,
      "outputs": [
        {
          "output_type": "stream",
          "text": [
            "Cloning into 'CreateImageOverlaysandDepthMask'...\n",
            "remote: Enumerating objects: 24, done.\u001b[K\n",
            "remote: Counting objects:   4% (1/24)\u001b[K\rremote: Counting objects:   8% (2/24)\u001b[K\rremote: Counting objects:  12% (3/24)\u001b[K\rremote: Counting objects:  16% (4/24)\u001b[K\rremote: Counting objects:  20% (5/24)\u001b[K\rremote: Counting objects:  25% (6/24)\u001b[K\rremote: Counting objects:  29% (7/24)\u001b[K\rremote: Counting objects:  33% (8/24)\u001b[K\rremote: Counting objects:  37% (9/24)\u001b[K\rremote: Counting objects:  41% (10/24)\u001b[K\rremote: Counting objects:  45% (11/24)\u001b[K\rremote: Counting objects:  50% (12/24)\u001b[K\rremote: Counting objects:  54% (13/24)\u001b[K\rremote: Counting objects:  58% (14/24)\u001b[K\rremote: Counting objects:  62% (15/24)\u001b[K\rremote: Counting objects:  66% (16/24)\u001b[K\rremote: Counting objects:  70% (17/24)\u001b[K\rremote: Counting objects:  75% (18/24)\u001b[K\rremote: Counting objects:  79% (19/24)\u001b[K\rremote: Counting objects:  83% (20/24)\u001b[K\rremote: Counting objects:  87% (21/24)\u001b[K\rremote: Counting objects:  91% (22/24)\u001b[K\rremote: Counting objects:  95% (23/24)\u001b[K\rremote: Counting objects: 100% (24/24)\u001b[K\rremote: Counting objects: 100% (24/24), done.\u001b[K\n",
            "remote: Compressing objects:   5% (1/18)\u001b[K\rremote: Compressing objects:  11% (2/18)\u001b[K\rremote: Compressing objects:  16% (3/18)\u001b[K\rremote: Compressing objects:  22% (4/18)\u001b[K\rremote: Compressing objects:  27% (5/18)\u001b[K\rremote: Compressing objects:  33% (6/18)\u001b[K\rremote: Compressing objects:  38% (7/18)\u001b[K\rremote: Compressing objects:  44% (8/18)\u001b[K\rremote: Compressing objects:  50% (9/18)\u001b[K\rremote: Compressing objects:  55% (10/18)\u001b[K\rremote: Compressing objects:  61% (11/18)\u001b[K\rremote: Compressing objects:  66% (12/18)\u001b[K\rremote: Compressing objects:  72% (13/18)\u001b[K\rremote: Compressing objects:  77% (14/18)\u001b[K\rremote: Compressing objects:  83% (15/18)\u001b[K\rremote: Compressing objects:  88% (16/18)\u001b[K\rremote: Compressing objects:  94% (17/18)\u001b[K\rremote: Compressing objects: 100% (18/18)\u001b[K\rremote: Compressing objects: 100% (18/18), done.\u001b[K\n",
            "Unpacking objects:   4% (1/24)   \rUnpacking objects:   8% (2/24)   \rUnpacking objects:  12% (3/24)   \rUnpacking objects:  16% (4/24)   \rUnpacking objects:  20% (5/24)   \rUnpacking objects:  25% (6/24)   \rUnpacking objects:  29% (7/24)   \rUnpacking objects:  33% (8/24)   \rUnpacking objects:  37% (9/24)   \rUnpacking objects:  41% (10/24)   \rUnpacking objects:  45% (11/24)   \rUnpacking objects:  50% (12/24)   \rUnpacking objects:  54% (13/24)   \rUnpacking objects:  58% (14/24)   \rUnpacking objects:  62% (15/24)   \rUnpacking objects:  66% (16/24)   \rUnpacking objects:  70% (17/24)   \rUnpacking objects:  75% (18/24)   \rUnpacking objects:  79% (19/24)   \rUnpacking objects:  83% (20/24)   \rUnpacking objects:  87% (21/24)   \rremote: Total 24 (delta 7), reused 22 (delta 5), pack-reused 0\u001b[K\n",
            "Unpacking objects:  91% (22/24)   \rUnpacking objects:  95% (23/24)   \rUnpacking objects: 100% (24/24)   \rUnpacking objects: 100% (24/24), done.\n"
          ],
          "name": "stdout"
        }
      ]
    },
    {
      "cell_type": "code",
      "metadata": {
        "id": "n_WC2B9MllSf",
        "colab_type": "code",
        "colab": {
          "base_uri": "https://localhost:8080/",
          "height": 35
        },
        "outputId": "b689bc20-d75a-463e-e01b-68ed0792d705"
      },
      "source": [
        "cd CreateImageOverlaysandDepthMask"
      ],
      "execution_count": 3,
      "outputs": [
        {
          "output_type": "stream",
          "text": [
            "/content/CreateImageOverlaysandDepthMask\n"
          ],
          "name": "stdout"
        }
      ]
    },
    {
      "cell_type": "code",
      "metadata": {
        "id": "t5Z59ZmGoE0K",
        "colab_type": "code",
        "colab": {
          "base_uri": "https://localhost:8080/",
          "height": 35
        },
        "outputId": "f4dd6d67-9d7c-4706-edbf-b9e447fe7f23"
      },
      "source": [
        "!git pull"
      ],
      "execution_count": 4,
      "outputs": [
        {
          "output_type": "stream",
          "text": [
            "Already up to date.\n"
          ],
          "name": "stdout"
        }
      ]
    },
    {
      "cell_type": "code",
      "metadata": {
        "id": "6wsNEeWTmyhg",
        "colab_type": "code",
        "colab": {
          "base_uri": "https://localhost:8080/",
          "height": 35
        },
        "outputId": "21f750a7-858c-4c13-9047-6ddba84174b4"
      },
      "source": [
        "!mkdir NYU/weights"
      ],
      "execution_count": 6,
      "outputs": [
        {
          "output_type": "stream",
          "text": [
            "mkdir: cannot create directory ‘NYU/weights’: File exists\n"
          ],
          "name": "stdout"
        }
      ]
    },
    {
      "cell_type": "code",
      "metadata": {
        "id": "JO_Eoly3mD4h",
        "colab_type": "code",
        "colab": {
          "base_uri": "https://localhost:8080/",
          "height": 215
        },
        "outputId": "d4e0e434-28b1-4e7b-865d-f660bb0a0678"
      },
      "source": [
        "!wget https://s3-eu-west-1.amazonaws.com/densedepth/nyu.h5 -O ./NYU/weights/nyu.h5"
      ],
      "execution_count": 7,
      "outputs": [
        {
          "output_type": "stream",
          "text": [
            "--2020-05-05 03:14:08--  https://s3-eu-west-1.amazonaws.com/densedepth/nyu.h5\n",
            "Resolving s3-eu-west-1.amazonaws.com (s3-eu-west-1.amazonaws.com)... 52.218.40.163\n",
            "Connecting to s3-eu-west-1.amazonaws.com (s3-eu-west-1.amazonaws.com)|52.218.40.163|:443... connected.\n",
            "HTTP request sent, awaiting response... 200 OK\n",
            "Length: 172897376 (165M) [application/h5]\n",
            "Saving to: ‘./NYU/weights/nyu.h5’\n",
            "\n",
            "./NYU/weights/nyu.h 100%[===================>] 164.89M  30.8MB/s    in 6.0s    \n",
            "\n",
            "2020-05-05 03:14:14 (27.3 MB/s) - ‘./NYU/weights/nyu.h5’ saved [172897376/172897376]\n",
            "\n"
          ],
          "name": "stdout"
        }
      ]
    },
    {
      "cell_type": "code",
      "metadata": {
        "id": "qNMXB37pmEw4",
        "colab_type": "code",
        "colab": {
          "base_uri": "https://localhost:8080/",
          "height": 35
        },
        "outputId": "e603a380-8069-4ab1-9191-d86494603c4c"
      },
      "source": [
        "ls"
      ],
      "execution_count": 8,
      "outputs": [
        {
          "output_type": "stream",
          "text": [
            "CreateDepthMaskNYU.py  CreateMasks.py  \u001b[0m\u001b[01;34mNYU\u001b[0m/  OverlayImages.py  temp.png\n"
          ],
          "name": "stdout"
        }
      ]
    },
    {
      "cell_type": "code",
      "metadata": {
        "id": "HkulH_c6j8yp",
        "colab_type": "code",
        "colab": {
          "base_uri": "https://localhost:8080/",
          "height": 35
        },
        "outputId": "ec4e1304-07fb-4034-d5fa-3e6206d3a8e2"
      },
      "source": [
        "import os\n",
        "from random import random\n",
        "from random import seed\n",
        "\n",
        "import cv2\n",
        "import numpy as np\n",
        "from PIL import Image\n",
        "from tqdm import tqdm\n",
        "\n",
        "from CreateDepthMaskNYU import CreateDepthMaskNYU\n",
        "import matplotlib.pyplot as plt\n",
        "from PIL import Image"
      ],
      "execution_count": 9,
      "outputs": [
        {
          "output_type": "stream",
          "text": [
            "Using TensorFlow backend.\n"
          ],
          "name": "stderr"
        }
      ]
    },
    {
      "cell_type": "code",
      "metadata": {
        "id": "rESLZ-nSkFTg",
        "colab_type": "code",
        "colab": {}
      },
      "source": [
        "model_path = r'./NYU/weights/nyu.h5'"
      ],
      "execution_count": 0,
      "outputs": []
    },
    {
      "cell_type": "code",
      "metadata": {
        "id": "L-ql64pmmS5Q",
        "colab_type": "code",
        "colab": {}
      },
      "source": [
        "bg_path = r'/content/gdrive/My Drive/MaskRCNNDataset/Background'\n",
        "fg_path = r'/content/gdrive/My Drive/MaskRCNNDataset/Foreground'\n",
        "fg_mask_path = r'/content/gdrive/My Drive/MaskRCNNDataset/Foreground/masks'\n",
        "\n",
        "final_output = r'/content/gdrive/My Drive/MaskRCNNDataset/OverLayedImages'\n",
        "final_output_mask = r'/content/gdrive/My Drive/MaskRCNNDataset/OverLayedMask'\n",
        "final_output_dm = r'/content/gdrive/My Drive/MaskRCNNDataset/OverLayedDepthMasks'"
      ],
      "execution_count": 0,
      "outputs": []
    },
    {
      "cell_type": "code",
      "metadata": {
        "id": "oLB2KU-HkFbn",
        "colab_type": "code",
        "colab": {}
      },
      "source": [
        "fg_image_ext = '.png'\n",
        "fg_image_flip_ext = '_flip.png'\n",
        "bg_image_ext = '.jpg'\n",
        "final_image_ext = '.jpg'\n",
        "final_output_dm_ext = '.jpg'\n",
        "batch_images_count = 40000\n",
        "batch = 1\n",
        "batch_folder_name = 'batch_'"
      ],
      "execution_count": 0,
      "outputs": []
    },
    {
      "cell_type": "code",
      "metadata": {
        "id": "ByUABB0EkFnX",
        "colab_type": "code",
        "colab": {
          "base_uri": "https://localhost:8080/",
          "height": 71
        },
        "outputId": "54acad9c-12ec-4fe3-bdea-0eaede70e7db"
      },
      "source": [
        "depth_model = CreateDepthMaskNYU(model_path)"
      ],
      "execution_count": 13,
      "outputs": [
        {
          "output_type": "stream",
          "text": [
            "Loading model...\n",
            "\n",
            "Model loaded (./NYU/weights/nyu.h5).\n"
          ],
          "name": "stdout"
        }
      ]
    },
    {
      "cell_type": "code",
      "metadata": {
        "id": "gPUog0aTkTBI",
        "colab_type": "code",
        "colab": {
          "base_uri": "https://localhost:8080/",
          "height": 1000
        },
        "outputId": "01213278-39e2-451f-d926-c4e112914740"
      },
      "source": [
        "for x in tqdm(range(0, 1)):\n",
        "    seed(x)\n",
        "    init_x = int(np.floor(random() * 79))\n",
        "    init_y = int(np.floor(random() * 79))\n",
        "    dict_for_dm = {}\n",
        "\n",
        "    # if not x == 0 and x % 4 == 0:\n",
        "    #     batch += 1;\n",
        "\n",
        "    if not x == 0:\n",
        "        batch += 1;\n",
        "\n",
        "    fg_img_path = final_output + os.path.sep + batch_folder_name + str(batch)\n",
        "    if not os.path.exists(fg_img_path):\n",
        "        os.mkdir(fg_img_path)\n",
        "\n",
        "    fg_mask_img_path = final_output_mask + os.path.sep + batch_folder_name + str(batch)\n",
        "    if not os.path.exists(fg_mask_img_path):\n",
        "        os.mkdir(fg_mask_img_path)\n",
        "\n",
        "    fg_dm_img_path = final_output_dm + os.path.sep + batch_folder_name + str(batch)\n",
        "    if not os.path.exists(fg_dm_img_path):\n",
        "        os.mkdir(fg_dm_img_path)\n",
        "\n",
        "    for mx in tqdm(range(1, 101)):\n",
        "\n",
        "        # if len(dict_for_dm > 0):\n",
        "        #     depth_model.flush_depth_maps(dict_for_dm)\n",
        "        #     dict_for_dm = {}\n",
        "\n",
        "        overlay_file_path = \"{0}{1}{2}{3}\".format(fg_path, os.path.sep, str(mx), fg_image_ext)\n",
        "        overlay_file_mask_path = \"{0}{1}{2}{3}\".format(fg_mask_path, os.path.sep, str(mx), fg_image_ext)\n",
        "\n",
        "        overlay = cv2.imread(overlay_file_path, cv2.IMREAD_UNCHANGED)\n",
        "        overlay_mask = cv2.imread(overlay_file_mask_path, cv2.IMREAD_UNCHANGED)\n",
        "\n",
        "        flip_overlay_path = \"{0}{1}{2}{3}\".format(fg_path, os.path.sep, str(mx), fg_image_flip_ext)\n",
        "        flip_overlay_mask_path = \"{0}{1}{2}{3}\".format(fg_mask_path, os.path.sep, str(mx), fg_image_flip_ext)\n",
        "\n",
        "        flip_overlay = cv2.imread(flip_overlay_path, cv2.IMREAD_UNCHANGED)\n",
        "        flip_overlay_mask = cv2.imread(flip_overlay_mask_path, cv2.IMREAD_UNCHANGED)\n",
        "\n",
        "        for k in (range(1, 101)):\n",
        "            bg_file_path = \"{0}{1}{2}{3}\".format(bg_path, os.path.sep, str(k), bg_image_ext)\n",
        "            background = cv2.imread(bg_file_path, cv2.IMREAD_UNCHANGED)\n",
        "            empty_image = np.zeros((224, 224, 3), dtype=\"uint8\")\n",
        "\n",
        "            for i in range(init_x, init_x + overlay.shape[0]):\n",
        "                for j in range(init_y, init_y + overlay.shape[1]):\n",
        "                    if x < 20:\n",
        "                        if overlay[i - init_x, j - init_y, 3] != 0:\n",
        "                            background[i, j, 0:3] = overlay[i - init_x, j - init_y, 0:3]\n",
        "                    else:\n",
        "                        if flip_overlay[i - init_x, j - init_y, 3] != 0:\n",
        "                            background[i, j, 0:3] = flip_overlay[i - init_x, j - init_y, 0:3]\n",
        "\n",
        "            for ix in range(0, 3):\n",
        "                if x < 20:\n",
        "                    empty_image[init_x:init_x + overlay.shape[0], init_y:init_y + overlay.shape[1], ix] = overlay_mask[\n",
        "                                                                                                          0:\n",
        "                                                                                                          overlay.shape[\n",
        "                                                                                                              0],\n",
        "                                                                                                          0:\n",
        "                                                                                                          overlay.shape[\n",
        "                                                                                                              1]]\n",
        "                else:\n",
        "                    empty_image[init_x:init_x + overlay.shape[0], init_y:init_y + overlay.shape[1],\n",
        "                    ix] = flip_overlay_mask[\n",
        "                          0:\n",
        "                          overlay.shape[\n",
        "                              0],\n",
        "                          0:\n",
        "                          overlay.shape[\n",
        "                              1]]\n",
        "\n",
        "            final_image_path = fg_img_path + os.path.sep + str(k) + '_p' + str(mx) + '_it' + str(x) + final_image_ext\n",
        "            cv2.imwrite(final_image_path, background)\n",
        "\n",
        "            final_image_mask_path = fg_mask_img_path + os.path.sep + str(k) + '_p' + str(mx) + '_it' + str(x) \\\n",
        "                                    + final_image_ext\n",
        "\n",
        "            empty_image = cv2.cvtColor(empty_image, cv2.COLOR_BGR2GRAY)\n",
        "\n",
        "            cv2.imwrite(final_image_mask_path, empty_image)\n",
        "\n",
        "            final_image_dm_path = fg_dm_img_path + os.path.sep + str(k) + '_p' + str(mx) + '_it' + str(\n",
        "                x) + final_output_dm_ext\n",
        "\n",
        "            dict_for_dm[final_image_dm_path] = background\n",
        "\n",
        "            width = background.shape[1] * 2\n",
        "            height = background.shape[0] * 2\n",
        "            dim = (width, height)\n",
        "\n",
        "            # resize image\n",
        "            resized = cv2.resize(background, dim, interpolation=cv2.INTER_AREA)\n",
        "\n",
        "            cv2.imwrite('/content/CreateImageOverlaysandDepthMask/temp.png', resized)\n",
        "\n",
        "            dm = depth_model.get_depth_map(resized, '/content/CreateImageOverlaysandDepthMask/temp.png', 1)\n",
        "\n",
        "            depth_model.save_dm(dm, final_image_dm_path)"
      ],
      "execution_count": 0,
      "outputs": [
        {
          "output_type": "stream",
          "text": [
            "  0%|          | 0/1 [00:00<?, ?it/s]\n",
            "  0%|          | 0/100 [00:00<?, ?it/s]\u001b[A/content/CreateImageOverlaysandDepthMask/CreateDepthMaskNYU.py:54: RuntimeWarning: More than 20 figures have been opened. Figures created through the pyplot interface (`matplotlib.pyplot.figure`) are retained until explicitly closed and may consume too much memory. (To control this warning, see the rcParam `figure.max_open_warning`).\n",
            "  fig = plt.figure(figsize=(2.24, 2.24))\n",
            "\n",
            "  1%|          | 1/100 [02:06<3:27:55, 126.01s/it]\u001b[A\n",
            "  2%|▏         | 2/100 [02:31<2:36:26, 95.78s/it] \u001b[A\n",
            "  3%|▎         | 3/100 [02:56<2:00:43, 74.67s/it]\u001b[A\n",
            "  4%|▍         | 4/100 [03:22<1:36:01, 60.02s/it]\u001b[A\n",
            "  5%|▌         | 5/100 [03:47<1:18:23, 49.51s/it]\u001b[A\n",
            "  6%|▌         | 6/100 [04:13<1:06:42, 42.58s/it]\u001b[A\n",
            "  7%|▋         | 7/100 [04:39<57:56, 37.38s/it]  \u001b[A\n",
            "  8%|▊         | 8/100 [05:04<51:56, 33.88s/it]\u001b[A\n",
            "  9%|▉         | 9/100 [05:29<47:17, 31.19s/it]\u001b[A\n",
            " 10%|█         | 10/100 [05:56<44:40, 29.78s/it]\u001b[A\n",
            " 11%|█         | 11/100 [06:21<42:10, 28.44s/it]\u001b[A\n",
            " 12%|█▏        | 12/100 [06:46<40:10, 27.40s/it]\u001b[A\n",
            " 13%|█▎        | 13/100 [07:13<39:19, 27.12s/it]\u001b[A\n",
            " 14%|█▍        | 14/100 [07:38<38:02, 26.55s/it]\u001b[A\n",
            " 15%|█▌        | 15/100 [08:03<37:08, 26.21s/it]\u001b[A\n",
            " 16%|█▌        | 16/100 [08:30<36:50, 26.32s/it]\u001b[A\n",
            " 17%|█▋        | 17/100 [08:55<35:54, 25.95s/it]\u001b[A\n",
            " 18%|█▊        | 18/100 [09:20<35:14, 25.78s/it]\u001b[A\n",
            " 19%|█▉        | 19/100 [09:45<34:25, 25.50s/it]\u001b[A\n",
            " 20%|██        | 20/100 [10:12<34:25, 25.81s/it]\u001b[A\n",
            " 21%|██        | 21/100 [10:37<33:46, 25.65s/it]\u001b[A\n",
            " 22%|██▏       | 22/100 [11:02<33:12, 25.54s/it]\u001b[A\n",
            " 23%|██▎       | 23/100 [11:27<32:33, 25.37s/it]\u001b[A\n",
            " 24%|██▍       | 24/100 [11:54<32:45, 25.86s/it]\u001b[A\n",
            " 25%|██▌       | 25/100 [12:19<32:07, 25.70s/it]\u001b[A\n",
            " 26%|██▌       | 26/100 [12:45<31:31, 25.56s/it]\u001b[A\n",
            " 27%|██▋       | 27/100 [13:09<30:48, 25.32s/it]\u001b[A\n",
            " 28%|██▊       | 28/100 [13:35<30:20, 25.28s/it]\u001b[A\n",
            " 29%|██▉       | 29/100 [14:00<29:47, 25.17s/it]\u001b[A\n",
            " 30%|███       | 30/100 [14:27<30:11, 25.87s/it]\u001b[A\n",
            " 31%|███       | 31/100 [14:52<29:35, 25.73s/it]\u001b[A\n",
            " 32%|███▏      | 32/100 [15:18<28:55, 25.53s/it]\u001b[A\n",
            " 33%|███▎      | 33/100 [15:43<28:20, 25.38s/it]\u001b[A\n",
            " 34%|███▍      | 34/100 [16:08<27:50, 25.30s/it]\u001b[A\n",
            " 35%|███▌      | 35/100 [16:33<27:18, 25.21s/it]\u001b[A\n",
            " 36%|███▌      | 36/100 [16:58<26:50, 25.16s/it]\u001b[A\n",
            " 37%|███▋      | 37/100 [17:26<27:25, 26.11s/it]\u001b[A\n",
            " 38%|███▊      | 38/100 [17:51<26:36, 25.76s/it]\u001b[A\n",
            " 39%|███▉      | 39/100 [18:17<26:20, 25.91s/it]\u001b[A\n",
            " 40%|████      | 40/100 [18:42<25:38, 25.64s/it]\u001b[A\n",
            " 41%|████      | 41/100 [19:08<25:07, 25.55s/it]\u001b[A\n",
            " 42%|████▏     | 42/100 [19:33<24:38, 25.49s/it]\u001b[A\n",
            " 43%|████▎     | 43/100 [19:58<24:09, 25.43s/it]\u001b[A\n",
            " 44%|████▍     | 44/100 [20:24<23:42, 25.41s/it]\u001b[A\n",
            " 45%|████▌     | 45/100 [20:53<24:24, 26.63s/it]\u001b[A\n",
            " 46%|████▌     | 46/100 [21:19<23:39, 26.28s/it]\u001b[A\n",
            " 47%|████▋     | 47/100 [21:44<23:00, 26.04s/it]\u001b[A\n",
            " 48%|████▊     | 48/100 [22:09<22:23, 25.84s/it]\u001b[A\n",
            " 49%|████▉     | 49/100 [22:35<21:50, 25.70s/it]\u001b[A\n",
            " 50%|█████     | 50/100 [23:01<21:27, 25.74s/it]\u001b[A\n",
            " 51%|█████     | 51/100 [23:26<21:03, 25.78s/it]\u001b[A\n",
            " 52%|█████▏    | 52/100 [23:52<20:32, 25.67s/it]\u001b[A\n",
            " 53%|█████▎    | 53/100 [24:17<20:02, 25.58s/it]\u001b[A\n",
            " 54%|█████▍    | 54/100 [24:43<19:34, 25.54s/it]\u001b[A\n",
            " 55%|█████▌    | 55/100 [25:13<20:08, 26.85s/it]\u001b[A\n",
            " 56%|█████▌    | 56/100 [25:38<19:26, 26.52s/it]\u001b[A\n",
            " 57%|█████▋    | 57/100 [26:04<18:48, 26.24s/it]\u001b[A\n",
            " 58%|█████▊    | 58/100 [26:29<18:12, 26.01s/it]\u001b[A\n",
            " 59%|█████▉    | 59/100 [26:55<17:39, 25.83s/it]\u001b[A\n",
            " 60%|██████    | 60/100 [27:20<17:05, 25.64s/it]\u001b[A\n",
            " 61%|██████    | 61/100 [27:46<16:39, 25.63s/it]\u001b[A\n",
            " 62%|██████▏   | 62/100 [28:11<16:15, 25.66s/it]\u001b[A\n",
            " 63%|██████▎   | 63/100 [28:37<15:47, 25.62s/it]\u001b[A\n",
            " 64%|██████▍   | 64/100 [29:02<15:19, 25.54s/it]\u001b[A\n",
            " 65%|██████▌   | 65/100 [29:28<14:51, 25.47s/it]\u001b[A\n",
            " 66%|██████▌   | 66/100 [29:52<14:17, 25.23s/it]\u001b[A\n",
            " 67%|██████▋   | 67/100 [30:23<14:48, 26.94s/it]\u001b[A\n",
            " 68%|██████▊   | 68/100 [30:49<14:09, 26.53s/it]\u001b[A\n",
            " 69%|██████▉   | 69/100 [31:14<13:35, 26.30s/it]\u001b[A\n",
            " 70%|███████   | 70/100 [31:40<13:03, 26.13s/it]\u001b[A\n",
            " 71%|███████   | 71/100 [32:06<12:31, 25.90s/it]\u001b[A\n",
            " 72%|███████▏  | 72/100 [32:31<12:03, 25.85s/it]\u001b[A\n",
            " 73%|███████▎  | 73/100 [32:57<11:32, 25.66s/it]\u001b[A\n",
            " 74%|███████▍  | 74/100 [33:22<11:08, 25.72s/it]\u001b[A\n",
            " 75%|███████▌  | 75/100 [33:49<10:46, 25.85s/it]\u001b[A\n",
            " 76%|███████▌  | 76/100 [34:15<10:21, 25.90s/it]\u001b[A\n",
            " 77%|███████▋  | 77/100 [34:40<09:54, 25.85s/it]\u001b[A\n",
            " 78%|███████▊  | 78/100 [35:06<09:26, 25.75s/it]\u001b[A\n",
            " 79%|███████▉  | 79/100 [35:32<09:00, 25.76s/it]\u001b[A\n",
            " 80%|████████  | 80/100 [35:57<08:35, 25.77s/it]\u001b[A"
          ],
          "name": "stderr"
        }
      ]
    },
    {
      "cell_type": "code",
      "metadata": {
        "id": "0zhTLjL_nE1Z",
        "colab_type": "code",
        "colab": {}
      },
      "source": [
        "drive.flush_and_unmount()"
      ],
      "execution_count": 0,
      "outputs": []
    }
  ]
}